{
 "cells": [
  {
   "cell_type": "markdown",
   "id": "9ed17913",
   "metadata": {},
   "source": [
    "## Prediction model"
   ]
  },
  {
   "cell_type": "code",
   "execution_count": 1,
   "id": "08cde5da",
   "metadata": {},
   "outputs": [],
   "source": [
    "import torch\n",
    "from torch.utils.data import DataLoader, TensorDataset\n",
    "from torch import nn, optim\n",
    "import torch.nn.functional as F\n",
    "\n",
    "n_component=13\n",
    "\n",
    "class FNN1(nn.Module):\n",
    "    def __init__(self):\n",
    "        super().__init__()\n",
    "        self.fc1 = nn.Linear(n_component,128)\n",
    "        self.fc2 = nn.Linear(128, 512)\n",
    "        self.dp1 = nn.Dropout(p=0.3)\n",
    "        self.fc3 = nn.Linear(512, 256)\n",
    "        self.dp2 = nn.Dropout(p=0.1)\n",
    "        self.fc4 = nn.Linear(256, 128)\n",
    "        self.fc5 = nn.Linear(128, 64)\n",
    "        self.fc6 = nn.Linear(64, 32)\n",
    "        self.fc7 = nn.Linear(32, 16)\n",
    "        self.fc8 = nn.Linear(16, 1)\n",
    "        \n",
    "    def forward(self, x):\n",
    "        h = F.selu(self.fc1(x)) #best: selu, leaky_relu\n",
    "        h = F.selu(self.fc2(h))\n",
    "        h = self.dp1(h)\n",
    "        h = F.selu(self.fc3(h))\n",
    "        h = self.dp2(h)\n",
    "        h = F.selu(self.fc4(h))\n",
    "        h = F.selu(self.fc5(h))\n",
    "        h = F.selu(self.fc6(h))\n",
    "        h = F.selu(self.fc7(h))\n",
    "        out = self.fc8(h)\n",
    "        return out\n",
    "\n",
    "    def fit(self, data_loader, criterion, optimizer):\n",
    "        self.train()\n",
    "        sum_train_losses = 0\n",
    "\n",
    "        for data, target in data_loader:\n",
    "            \n",
    "            optimizer.zero_grad()\n",
    "            pred = self(data)\n",
    "            loss = criterion(pred, target)\n",
    "            loss.backward()\n",
    "            optimizer.step()\n",
    "\n",
    "            sum_train_losses += loss.item()\n",
    "\n",
    "        return sum_train_losses / len(data_loader)\n",
    "\n",
    "    def predict(self, data_loader):\n",
    "        self.eval()\n",
    "        list_preds = list()\n",
    "\n",
    "        with torch.no_grad():\n",
    "            for data, _ in data_loader:\n",
    "                pred = self(data)\n",
    "                list_preds.append(pred)\n",
    "\n",
    "        return torch.cat(list_preds, dim=0).cpu().numpy()\n",
    "\n",
    "class FNN2(nn.Module):\n",
    "    def __init__(self):\n",
    "        super().__init__()\n",
    "        self.fc1 = nn.Linear(n_component,128)\n",
    "        self.fc2 = nn.Linear(128, 256)\n",
    "        self.dp1 = nn.Dropout(p=0.3)\n",
    "        self.fc3 = nn.Linear(256, 512)\n",
    "        self.fc4 = nn.Linear(512, 128)\n",
    "        self.fc5 = nn.Linear(128, 1)\n",
    "        \n",
    "    def forward(self, x):\n",
    "        h = F.selu(self.fc1(x)) #best: selu, leaky_relu\n",
    "        h = F.selu(self.fc2(h))\n",
    "        h = self.dp1(h)\n",
    "        h = F.selu(self.fc3(h))\n",
    "        h = F.selu(self.fc4(h))\n",
    "        out = self.fc5(h)\n",
    "        return out\n",
    "    \n",
    "    def fit(self, data_loader, criterion, optimizer):\n",
    "        self.train()\n",
    "        sum_train_losses = 0\n",
    "\n",
    "        for data, target in data_loader:\n",
    "            \n",
    "            optimizer.zero_grad()\n",
    "            pred = self(data)\n",
    "            loss = criterion(pred, target)\n",
    "            loss.backward()\n",
    "            optimizer.step()\n",
    "\n",
    "            sum_train_losses += loss.item()\n",
    "\n",
    "        return sum_train_losses / len(data_loader)\n",
    "\n",
    "    def predict(self, data_loader):\n",
    "        self.eval()\n",
    "        list_preds = list()\n",
    "\n",
    "        with torch.no_grad():\n",
    "            for data, _ in data_loader:\n",
    "                pred = self(data)\n",
    "                list_preds.append(pred)\n",
    "\n",
    "        return torch.cat(list_preds, dim=0).cpu().numpy()"
   ]
  },
  {
   "cell_type": "code",
   "execution_count": 2,
   "id": "e2494c4f-7895-4dab-96c4-d86eff7e067a",
   "metadata": {},
   "outputs": [],
   "source": [
    "from sklearn.ensemble import RandomForestRegressor\n",
    "import xgboost as xgb\n",
    "from sklearn.svm import SVR\n",
    "from sklearn.kernel_ridge import KernelRidge\n",
    "from sklearn.neighbors import KNeighborsRegressor\n",
    "import pandas as pd\n",
    "import numpy as np\n",
    "import matplotlib.pyplot as plt\n",
    "from sklearn.metrics import mean_absolute_error, r2_score\n",
    "from sklearn.model_selection import GridSearchCV\n",
    "from sklearn.preprocessing import StandardScaler, RobustScaler\n",
    "from sklearn.compose import ColumnTransformer\n",
    "from sklearn.model_selection import train_test_split"
   ]
  },
  {
   "cell_type": "code",
   "execution_count": 3,
   "id": "71d24081-a599-4a74-b51d-580aaf3fd235",
   "metadata": {},
   "outputs": [
    {
     "data": {
      "text/plain": [
       "array(['l', 'b1', 'b5', 'l_2', 'b1_2', 'b5_2', 'cfbr3', 'phosphorus',\n",
       "       'c13', 'solvent', 'temp', 'time_min', 'e_y', 'z_y'], dtype=object)"
      ]
     },
     "execution_count": 3,
     "metadata": {},
     "output_type": "execute_result"
    }
   ],
   "source": [
    "df = pd.read_csv('split/train_split.csv')\n",
    "df = df.drop(labels=['compound_name'],axis = 1)\n",
    "df.columns.values"
   ]
  },
  {
   "cell_type": "code",
   "execution_count": 4,
   "id": "6a1da8e9-ff19-4d04-a89f-233357890e06",
   "metadata": {},
   "outputs": [],
   "source": [
    "from ctgan import CTGAN\n",
    "discrete_columns = ['cfbr3', 'phosphorus','solvent', 'temp']"
   ]
  },
  {
   "cell_type": "code",
   "execution_count": 5,
   "id": "09b1d94a-8547-4257-8868-623815b288a8",
   "metadata": {},
   "outputs": [],
   "source": [
    "ctgan = CTGAN(epochs=50)\n",
    "ctgan.fit(df, discrete_columns)\n",
    "synthetic_data = ctgan.sample(40)"
   ]
  },
  {
   "cell_type": "code",
   "execution_count": 6,
   "id": "e5fbc26b-23ad-471f-91a2-54df0db57ea7",
   "metadata": {},
   "outputs": [],
   "source": [
    "df.insert(0,'is_synthetic',0)\n",
    "synthetic_data.insert(0,'is_synthetic',1)"
   ]
  },
  {
   "cell_type": "code",
   "execution_count": 7,
   "id": "bc7f1b96-1d2d-46e3-9653-2938e7e44c38",
   "metadata": {},
   "outputs": [],
   "source": [
    "df = pd.concat([df,synthetic_data], ignore_index=True)"
   ]
  },
  {
   "cell_type": "code",
   "execution_count": 8,
   "id": "8550c3bb-ea1b-43af-9e5d-65539859651d",
   "metadata": {},
   "outputs": [],
   "source": [
    "test_set = pd.read_csv('split/test_split.csv')\n",
    "test_set.insert(0,'is_synthetic',0)\n",
    "\n",
    "train_set = np.delete(df, [], 1).astype(float)\n",
    "test_set = np.delete(test_set, [1], 1).astype(float)\n",
    "\n",
    "nFeat = len(train_set[0,:]) - 2\n",
    "\n",
    "X_train = train_set[:,:nFeat]\n",
    "X_test = test_set[:,:nFeat]\n",
    "Y_train_1 = train_set[:,nFeat:nFeat+1]\n",
    "Y_test_1 = test_set[:,nFeat:nFeat+1]\n",
    "Y_train_2 = train_set[:,nFeat+1:nFeat+2]\n",
    "Y_test_2 = test_set[:,nFeat+1:nFeat+2]"
   ]
  },
  {
   "cell_type": "code",
   "execution_count": 9,
   "id": "93924597-29cd-4439-a37f-34a9f11456ba",
   "metadata": {},
   "outputs": [],
   "source": [
    "#scaler, w/o time\n",
    "scalerx = RobustScaler().fit (X_train)\n",
    "X_train = scalerx.transform(X_train)\n",
    "X_test  = scalerx.transform(X_test)"
   ]
  },
  {
   "cell_type": "code",
   "execution_count": 16,
   "id": "aa7f4d5d",
   "metadata": {},
   "outputs": [
    {
     "name": "stdout",
     "output_type": "stream",
     "text": [
      "model: FNN\n",
      "R2 score:     0.78\t\t0.84\n"
     ]
    },
    {
     "data": {
      "image/png": "[encoded data removed]",
      "text/plain": [
       "<Figure size 500x500 with 1 Axes>"
      ]
     },
     "metadata": {},
     "output_type": "display_data"
    }
   ],
   "source": [
    "model_1 = {}\n",
    "model_2 = {}\n",
    "\n",
    "model_1 = FNN1()\n",
    "model_2 = FNN2()\n",
    "\n",
    "print('model: FNN')\n",
    "\n",
    "random_seed = 5\n",
    "X_train_1, X_val_1, Y_train_1i, Y_val_1 = train_test_split(X_train, Y_train_1, test_size=0.22, shuffle=True, random_state=random_seed)\n",
    "X_train_2, X_val_2, Y_train_2i, Y_val_2 = train_test_split(X_train, Y_train_2, test_size=0.22, shuffle=True, random_state=random_seed)\n",
    "\n",
    "X_train_1t = torch.Tensor(X_train_1)\n",
    "X_val_1t = torch.Tensor(X_val_1)\n",
    "X_test_1t = torch.Tensor(X_test)\n",
    "Y_train_1t = torch.Tensor(Y_train_1i)\n",
    "Y_val_1t = torch.Tensor(Y_val_1)\n",
    "Y_test_1t = torch.Tensor(Y_test_1)\n",
    "X_train_2t = torch.Tensor(X_train_2)\n",
    "X_val_2t = torch.Tensor(X_val_2)\n",
    "X_test_2t = torch.Tensor(X_test)\n",
    "Y_train_2t = torch.Tensor(Y_train_2i)\n",
    "Y_val_2t = torch.Tensor(Y_val_2)\n",
    "Y_test_2t = torch.Tensor(Y_test_2)\n",
    "\n",
    "data_train_1 = TensorDataset(X_train_1t, Y_train_1t)\n",
    "data_val_1 = TensorDataset(X_val_1t, Y_val_1t)\n",
    "data_test_1 = TensorDataset(X_test_1t, Y_test_1t)\n",
    "train_loader_1 = DataLoader(data_train_1, batch_size=64, shuffle=False)\n",
    "val_loader_1 = DataLoader(data_val_1, batch_size=64, shuffle=False)\n",
    "test_loader_1 = DataLoader(data_test_1, batch_size=64, shuffle=False)\n",
    "data_train_2 = TensorDataset(X_train_2t, Y_train_2t)\n",
    "data_val_2 = TensorDataset(X_val_2t, Y_val_2t)\n",
    "data_test_2 = TensorDataset(X_test_2t, Y_test_2t)\n",
    "train_loader_2 = DataLoader(data_train_2, batch_size=64, shuffle=False)\n",
    "val_loader_2 = DataLoader(data_val_2, batch_size=64, shuffle=False)\n",
    "test_loader_2 = DataLoader(data_test_2, batch_size=64, shuffle=False)\n",
    "\n",
    "criterion = nn.MSELoss()\n",
    "optimizer_1 = optim.Adam(model_1.parameters())\n",
    "optimizer_2 = optim.Adam(model_2.parameters())\n",
    "\n",
    "for epoch in range(1000):\n",
    "    model_1.train()\n",
    "    train_loss_1 = model_1.fit(train_loader_1, criterion, optimizer_1)\n",
    "    model_1.eval()\n",
    "    val_loss_1 = model_1.fit(val_loader_1, criterion, optimizer_1)\n",
    "for epoch in range(1000):\n",
    "    model_2.train()\n",
    "    train_loss_2 = model_2.fit(train_loader_2, criterion, optimizer_2)\n",
    "    model_1.eval()\n",
    "    val_loss_2 = model_2.fit(val_loader_2, criterion, optimizer_2)\n",
    "    \n",
    "Y_pred_1 = model_1.predict(test_loader_1)\n",
    "Y_test_1t = Y_test_1t.detach().numpy()\n",
    "Y_train_out_1 = model_1.predict(train_loader_1)\n",
    "Y_train_1t = Y_train_1t.detach().numpy()\n",
    "Y_val_out_1 = model_1.predict(val_loader_1)\n",
    "Y_val_1t = Y_val_1t.detach().numpy()\n",
    "r2_yield1 = np.around(r2_score(Y_test_1t,Y_pred_1), 2)\n",
    "Y_pred_2 = model_2.predict(test_loader_2)\n",
    "Y_test_2t = Y_test_2t.detach().numpy()\n",
    "Y_train_out_2 = model_2.predict(train_loader_2)\n",
    "Y_train_2t = Y_train_2t.detach().numpy()\n",
    "Y_val_out_2 = model_2.predict(val_loader_2)\n",
    "Y_val_2t = Y_val_2t.detach().numpy()\n",
    "r2_yield2 = np.around(r2_score(Y_test_2t,Y_pred_2), 2)\n",
    "\n",
    "print('R2 score:     {}\\t\\t{}'.format(r2_yield1, r2_yield2))\n",
    "\n",
    "plt.rcParams[\"figure.figsize\"] = (5,5)\n",
    "plt.scatter(Y_train_1t, Y_train_out_1, edgecolors='lightsalmon', facecolors='linen', alpha=0.8, label='train ($\\it{E}$)')\n",
    "plt.scatter(Y_val_1t, Y_val_out_1, edgecolors='lightsalmon', facecolors='linen', alpha=0.8)\n",
    "plt.scatter(Y_test_1t, Y_pred_1, edgecolors='darkred', facecolors='red', alpha=0.6, label='test ($\\it{E}$)')\n",
    "plt.scatter(Y_train_2t, Y_train_out_2, edgecolors='lightblue', facecolors='azure', alpha=0.8, label='train ($\\it{Z}$)')\n",
    "plt.scatter(Y_val_2t, Y_val_out_2, edgecolors='lightblue', facecolors='azure', alpha=0.8)\n",
    "plt.scatter(Y_test_2t, Y_pred_2, edgecolors='darkblue', facecolors='blue', alpha=0.6, label='test ($\\it{Z}$)')\n",
    "plt.title('FNN model', fontsize=16)\n",
    "plt.legend(loc='best')\n",
    "plt.annotate(r'$R^2$ = {:.2f} '.format(r2_yield1)+'($\\mathit{E}$), '+r'{:.2f} '.format(r2_yield2)+'($\\mathit{Z}$)', xy=(1,0), xycoords='axes fraction', xytext=(-140, 5), textcoords='offset points', fontsize=12)\n",
    "plt.xlabel('Observed yield (%)', fontsize=14)\n",
    "plt.ylabel('Predicted yield (%)', rotation='vertical', fontsize=14)\n",
    "#plt.show()\n",
    "plt.savefig('all_GAN_40_'+str(random_seed)+'.png')\n",
    "np.savetxt(\"Y_pred_1t_GAN_40_\"+str(random_seed)+\".csv\", Y_pred_1, delimiter=\",\")\n",
    "np.savetxt(\"Y_pred_2t_GAN_40_\"+str(random_seed)+\".csv\", Y_pred_2, delimiter=\",\")\n",
    "torch.save(model_1,\"gan_40_model_1\"+str(random_seed)+\".pt\")\n",
    "torch.save(model_2,\"gan_40_model_2\"+str(random_seed)+\".pt\")"
   ]
  },
  {
   "cell_type": "code",
   "execution_count": null,
   "id": "3d953866-ab25-4304-9df5-8433caa486af",
   "metadata": {},
   "outputs": [],
   "source": []
  }
 ],
 "metadata": {
  "kernelspec": {
   "display_name": "Python 3 (ipykernel)",
   "language": "python",
   "name": "python3"
  },
  "language_info": {
   "codemirror_mode": {
    "name": "ipython",
    "version": 3
   },
   "file_extension": ".py",
   "mimetype": "text/x-python",
   "name": "python",
   "nbconvert_exporter": "python",
   "pygments_lexer": "ipython3",
   "version": "3.9.19"
  }
 },
 "nbformat": 4,
 "nbformat_minor": 5
}
